{
  "nbformat": 4,
  "nbformat_minor": 0,
  "metadata": {
    "colab": {
      "name": "Copy of Copy of Untitled4.ipynb",
      "provenance": [],
      "toc_visible": true,
      "authorship_tag": "ABX9TyN98/3q/bPU9LMhQBIwfWe7",
      "include_colab_link": true
    },
    "kernelspec": {
      "name": "python3",
      "display_name": "Python 3"
    },
    "language_info": {
      "name": "python"
    }
  },
  "cells": [
    {
      "cell_type": "markdown",
      "metadata": {
        "id": "view-in-github",
        "colab_type": "text"
      },
      "source": [
        "<a href=\"https://colab.research.google.com/github/Sunanth111/ShapeAI_Bootcamp_JS_And_React.JS/blob/main/Copy_of_Copy_of_Untitled4.ipynb\" target=\"_parent\"><img src=\"https://colab.research.google.com/assets/colab-badge.svg\" alt=\"Open In Colab\"/></a>"
      ]
    },
    {
      "cell_type": "code",
      "execution_count": null,
      "metadata": {
        "colab": {
          "base_uri": "https://localhost:8080/"
        },
        "id": "pn26Dz5hQ-S1",
        "outputId": "48bcce1c-a81c-4814-ea26-d03651fe9b9c"
      },
      "outputs": [
        {
          "output_type": "stream",
          "name": "stdout",
          "text": [
            "12\n",
            "4.0\n",
            "Sunanth\n",
            "16\n",
            "8.0\n",
            "helloSunanth\n"
          ]
        }
      ],
      "source": [
        "\n",
        "a=int(input())\n",
        "b=float(input())\n",
        "c=input()\n",
        "print(i+a)\n",
        "print(d+b)\n",
        "print(s+c)"
      ]
    }
  ]
}